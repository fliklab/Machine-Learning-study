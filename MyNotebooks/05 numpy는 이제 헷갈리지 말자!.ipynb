{
 "cells": [
  {
   "cell_type": "markdown",
   "metadata": {},
   "source": [
    "# numpy는 이제 헷갈리지 말자"
   ]
  },
  {
   "cell_type": "markdown",
   "metadata": {},
   "source": [
    "- https://sonsh0824.tistory.com/entry/NumPy-Tutorial\n",
    "- http://taewan.kim/post/numpy_cheat_sheet/\n",
    "- http://aikorea.org/cs231n/python-numpy-tutorial/#numpy\n",
    "- http://pythonstudy.xyz/python/article/402-numpy-%EC%82%AC%EC%9A%A9%ED%95%98%EA%B8%B0\n",
    "- https://datascienceschool.net/view-notebook/17608f897087478bbeac096438c716f6/"
   ]
  },
  {
   "cell_type": "markdown",
   "metadata": {},
   "source": [
    "- 넘파이 데이터\n",
    "- 넘파이 선언\n",
    "- 넘파이 나누기\n",
    "- 넘파이 합성\n",
    "- Indexing, Slicing and Iterating\n",
    "\n",
    "- 넘파이 배열 연산(add, multiply, ...)\n",
    "- sum min cumsum\n",
    "- 넘파이 Universal Functions - sin, cos, exp, sqrt\n",
    "- np.random.randint(0, 10, (2, 3))\n",
    "- np.random.random, np.random.normal, np.random.randn\n",
    "\n",
    "\n",
    "- 넘파이로 그래프 그리기\n",
    "- matplotlib\n",
    "- figure\n",
    "- plot, hist, scatter, meshgrid\n",
    "- 그래프 옵션들.\n",
    "- 그래프 범위\n",
    "- 그래프 크기\n",
    "- 서브 플롯"
   ]
  },
  {
   "cell_type": "markdown",
   "metadata": {},
   "source": [
    "## 넘파이 임포트하기"
   ]
  },
  {
   "cell_type": "code",
   "execution_count": 1,
   "metadata": {},
   "outputs": [],
   "source": [
    "import numpy as np"
   ]
  },
  {
   "cell_type": "markdown",
   "metadata": {},
   "source": [
    "## 넘파이 버전 확인"
   ]
  },
  {
   "cell_type": "code",
   "execution_count": 2,
   "metadata": {},
   "outputs": [
    {
     "data": {
      "text/plain": [
       "'1.16.4'"
      ]
     },
     "execution_count": 2,
     "metadata": {},
     "output_type": "execute_result"
    }
   ],
   "source": [
    "np.__version__"
   ]
  },
  {
   "cell_type": "markdown",
   "metadata": {},
   "source": [
    "## 넘파이의 특징\n",
    "\n",
    "파이썬 기반 데이터 분석 환경에서 NumPy1는 행렬 연산을 위한 핵심 라이브러리입니다. NumPy는 “Numerical Python“의 약자로 대규모 다차원 배열과 행렬 연산에 필요한 다양한 함수를 제공합니다. 특히 메모리 버퍼에 배열 데이터를 저장하고 처리하는 효율적인 인터페이스를 제공합니다. 파이썬 list 객체를 개선한 NumPy의 ndarray 객체를 사용하면 더 많은 데이터를 더 빠르게 처리할 수 있습니다.\n",
    "\n",
    "NumPy는 다음과 같은 특징을 갖습니다.\n",
    "\n",
    "- 강력한 N 차원 배열 객체\n",
    "- 정교한 브로드케스팅(Broadcast) 기능\n",
    "- C/C ++ 및 포트란 코드 통합 도구\n",
    "- 유용한 선형 대수학, 푸리에 변환 및 난수 기능\n",
    "- 범용적 데이터 처리에 사용 가능한 다차원 컨테이너"
   ]
  },
  {
   "cell_type": "markdown",
   "metadata": {},
   "source": [
    "Shape\n",
    "dtype\n",
    "dimenstion\n",
    "rank"
   ]
  },
  {
   "cell_type": "markdown",
   "metadata": {},
   "source": [
    "---\n",
    "\n",
    "## **Shape**\n",
    "\n",
    "넘파이는 다차원 배열을 지원한다. 넘파이 배열의 구조를 Shape으로 표현한다. Shape는 파이썬 튜플 자료형을 활용해서 정의한다.\n",
    "Shape는 넘파이 배열을 다루는데 계속 사용되므로 정확하게 알고 있어야 한다.\n",
    "\n",
    "\\[1, 2, 4\\]  \n",
    "    Shape : (3,)\n",
    "\n",
    "\n",
    "\\[\\[1. 2. 3.\\] \\[4. 5. 6.\\]\\]  \n",
    "    Shape : (2,3)\n",
    "\n",
    "여기서 \\[1. 2. 3.\\]는 벡터 처럼 볼수 있다? \n",
    "\n",
    "2차원 배열은 (column)(row)순서대로 쓴다?\n",
    "\n",
    "차원에는 겉에서 봤을때 보이는 덩어리 갯수부터 앞에서 쓴다.\n",
    "\n",
    "## **numpy array 정보 확인하기**\n",
    "차원은 dimention이라고 한다.  \n",
    "dtype은 배열을 구성하는 데이터의 type을 의미한다.\n",
    "\n",
    "- 타입 확인 : `type(np_arr)`\n",
    "- shape 확인 : `np_arr.shape`\n",
    "- dimention 확인 : `np_arr.ndim`\n",
    "- dtype 확인 : `np_arr.dtype`\n"
   ]
  },
  {
   "cell_type": "code",
   "execution_count": 41,
   "metadata": {},
   "outputs": [
    {
     "name": "stdout",
     "output_type": "stream",
     "text": [
      "[[1 2 3]\n",
      " [4 5 6]]\n",
      "<class 'numpy.ndarray'>\n",
      "shape (2, 3)\n",
      "ndim 2\n",
      "dtype int64\n",
      "size 6\n",
      "itemsize 8\n",
      "data <memory at 0x11c9353a8>\n",
      "\n",
      "\n",
      "[[1 2]\n",
      " [4 5]\n",
      " [6 7]]\n",
      "<class 'numpy.ndarray'>\n",
      "shape (3, 2)\n",
      "ndim 2\n",
      "dtype int64\n",
      "size 6\n",
      "itemsize 8\n",
      "data <memory at 0x11c9353a8>\n"
     ]
    }
   ],
   "source": [
    "import numpy as np\n",
    "\n",
    "arr = np.array([(1,2,3), (4,5,6)])\n",
    "\n",
    "print(arr)\n",
    "print(type(arr))\n",
    "print(\"shape\", arr.shape)\n",
    "print(\"ndim\", arr.ndim)\n",
    "print(\"dtype\", arr.dtype)\n",
    "print(\"size\", arr.size)\n",
    "print(\"itemsize\", arr.itemsize)\n",
    "print(\"data\", arr.data)\n",
    "print(\"\\n\")\n",
    "\n",
    "\n",
    "\n",
    "arr2 = np.array([(1,2), (4,5), (6, 7)])\n",
    "print(arr2)\n",
    "print(type(arr2))\n",
    "print(\"shape\", arr2.shape)\n",
    "print(\"ndim\", arr2.ndim)\n",
    "print(\"dtype\", arr2.dtype)\n",
    "print(\"size\", arr2.size)\n",
    "print(\"itemsize\", arr2.itemsize)\n",
    "print(\"data\", arr2.data)\n"
   ]
  },
  {
   "cell_type": "code",
   "execution_count": 2,
   "metadata": {},
   "outputs": [],
   "source": [
    "import numpy as np\n",
    "\n",
    "def pprint(arr):\n",
    "    print(\"type: {}\".format(type(arr)))\n",
    "    print(\"shape: {}, dimension: {}, dtype:{}\".format(arr.shape, arr.ndim, arr.dtype))\n",
    "    print(\"Array's Data:\\n\", arr)\n",
    "    print('\\n')"
   ]
  },
  {
   "cell_type": "code",
   "execution_count": 16,
   "metadata": {},
   "outputs": [
    {
     "name": "stdout",
     "output_type": "stream",
     "text": [
      "type: <class 'numpy.ndarray'>\n",
      "shape: (3,), dimension: 1, dtype:int64\n",
      "Array's Data:\n",
      " [1 2 4]\n",
      "\n",
      "\n",
      "type: <class 'numpy.ndarray'>\n",
      "shape: (2, 3), dimension: 2, dtype:float64\n",
      "Array's Data:\n",
      " [[1. 2. 3.]\n",
      " [4. 5. 6.]]\n",
      "\n",
      "\n",
      "type: <class 'numpy.ndarray'>\n",
      "shape: (2, 2, 3), dimension: 3, dtype:float64\n",
      "Array's Data:\n",
      " [[[1. 2. 3.]\n",
      "  [4. 5. 6.]]\n",
      "\n",
      " [[3. 2. 1.]\n",
      "  [4. 5. 6.]]]\n",
      "\n",
      "\n"
     ]
    }
   ],
   "source": [
    "#pprint example\n",
    "\n",
    "list1 = [1, 2, 4]\n",
    "np_array1 = np.array(list1)\n",
    "\n",
    "list2 = [(1,2,3), (4,5,6)]\n",
    "np_array2 = np.array(list2, dtype = float)\n",
    "\n",
    "list3 = np.array([[[1,2,3], [4,5,6]], [[3,2,1], [4,5,6]]], dtype = float)\n",
    "np_array3 = np.array(list3, dtype = float)\n",
    "\n",
    "pprint(np_array1)\n",
    "pprint(np_array2)\n",
    "pprint(np_array3)"
   ]
  },
  {
   "cell_type": "markdown",
   "metadata": {},
   "source": [
    "---\n",
    "# 배열 생성 및 초기화\n",
    "Numpy는 원하는 shape으로 배열을 설정하고, 각 요소를 특정 값으로 초기화하는 zeros, ones, full, eye 함수를 제공합니다. 또한, 파라미터로 입력한 배열과 같은 shape의 배열을 만드는 zeros_like, ones_like, full_like 함수도 제공합니다. 이 함수를 이용하여 배열 생성하고 초기화할 수 있습니다.\n",
    "\n",
    "기본 생성방법.  \n",
    ": np.array(리스트)\n",
    "\n",
    "원하는 shape으로 배열을 설정하고, 각 요소를 특정 값으로 초기화  \n",
    ": zeros, ones, full, eye\n",
    "- **np.zeros(shape, dtype=float, order='C')**  모든 값이 0인 행렬 생성.\n",
    "- **np.ones(shape, dtype=float, order='C')**  모든 값이 1 인 행렬 생성.\n",
    "- **np.full(shape, fill_value, dtype=None, order='C')** 모든 값을 지정한 값(fill_value)으로 채운 행렬 생성.\n",
    "\n",
    "\n",
    "\n",
    "입력한 배열의 shape와 같은 shape의 배열  \n",
    ": zeros_like, ones_like, full_like"
   ]
  },
  {
   "cell_type": "markdown",
   "metadata": {},
   "source": [
    "## np.zeros( ), np.ones( )"
   ]
  },
  {
   "cell_type": "code",
   "execution_count": 22,
   "metadata": {},
   "outputs": [
    {
     "name": "stdout",
     "output_type": "stream",
     "text": [
      "type: <class 'numpy.ndarray'>\n",
      "shape: (3, 4), dimension: 2, dtype:float64\n",
      "Array's Data:\n",
      " [[0. 0. 0. 0.]\n",
      " [0. 0. 0. 0.]\n",
      " [0. 0. 0. 0.]]\n",
      "\n",
      "\n",
      "type: <class 'numpy.ndarray'>\n",
      "shape: (2, 3), dimension: 2, dtype:float64\n",
      "Array's Data:\n",
      " [[1. 1. 1.]\n",
      " [1. 1. 1.]]\n",
      "\n",
      "\n"
     ]
    }
   ],
   "source": [
    "a = np.zeros((3, 4)) # 모든 값이 0인 행렬 생성.\n",
    "pprint(a)\n",
    "\n",
    "b = np.ones((2,3)) #모든 값이 1 인 행렬 생성.\n",
    "pprint(b)"
   ]
  },
  {
   "cell_type": "markdown",
   "metadata": {},
   "source": [
    "## np.empty( ), np.eye( ), np.full( )\n",
    " np.eye(N, M=None, k=0, dtype=<class 'float'>)\n",
    " (N, N) shape의 단위 행렬(Unit Matrix)을 생성"
   ]
  },
  {
   "cell_type": "code",
   "execution_count": 4,
   "metadata": {},
   "outputs": [
    {
     "name": "stdout",
     "output_type": "stream",
     "text": [
      "type: <class 'numpy.ndarray'>\n",
      "shape: (4, 2), dimension: 2, dtype:float64\n",
      "Array's Data:\n",
      " [[-1.72723371e-077 -1.72723371e-077]\n",
      " [ 3.95252517e-323  0.00000000e+000]\n",
      " [ 0.00000000e+000  0.00000000e+000]\n",
      " [ 0.00000000e+000  0.00000000e+000]]\n",
      "\n",
      "\n",
      "type: <class 'numpy.ndarray'>\n",
      "shape: (4, 4), dimension: 2, dtype:float64\n",
      "Array's Data:\n",
      " [[1. 0. 0. 0.]\n",
      " [0. 1. 0. 0.]\n",
      " [0. 0. 1. 0.]\n",
      " [0. 0. 0. 1.]]\n",
      "\n",
      "\n",
      "type: <class 'numpy.ndarray'>\n",
      "shape: (2, 2), dimension: 2, dtype:int64\n",
      "Array's Data:\n",
      " [[7 7]\n",
      " [7 7]]\n",
      "\n",
      "\n"
     ]
    }
   ],
   "source": [
    "# np.empty((4,2))\n",
    "# 초기화 하지 않고, 원래 메모리에 있던 값을 그대로 사용해서 생성.\n",
    "pprint(np.empty((4,2)))\n",
    "\n",
    "# np.eye(4)\n",
    "# 단위행렬로 초기화. 반드시 정사각행렬임.\n",
    "pprint(np.eye(4))\n",
    "\n",
    "# np.full((2,2), 7)\n",
    "# 값이 7인 (2,2)배열로 초기화\n",
    "a = np.full((2,2),7)\n",
    "pprint(a)"
   ]
  },
  {
   "cell_type": "markdown",
   "metadata": {},
   "source": [
    "## np.ones_like()\n",
    "np.zeros_like, np.ones_like, np.full_like, np.enpty_like도 같은 방식으로 존재한다"
   ]
  },
  {
   "cell_type": "code",
   "execution_count": 11,
   "metadata": {},
   "outputs": [
    {
     "name": "stdout",
     "output_type": "stream",
     "text": [
      "type: <class 'numpy.ndarray'>\n",
      "shape: (2, 3), dimension: 2, dtype:int64\n",
      "Array's Data:\n",
      " [[1 1 1]\n",
      " [1 1 1]]\n",
      "\n",
      "\n",
      "True\n",
      "a: (2, 3) b: (2, 3)\n"
     ]
    }
   ],
   "source": [
    "a = np.array([[1,2,3], [4,5,6]])\n",
    "\n",
    "b = np.ones_like(a)\n",
    "pprint(b)\n",
    "\n",
    "print(a.shape == b.shape)\n",
    "print('a:',a.shape, 'b:',b.shape)\n"
   ]
  },
  {
   "cell_type": "markdown",
   "metadata": {},
   "source": [
    "---\n",
    "# **데이터 생성 함수**\n",
    "NumPy는 주어진 조건으로 데이터를 생성한 후, 배열을 만드는 데이터 생성 함수를 제공합니다.\n",
    "\n",
    "- numpy.linspace : 시작, 끝을 기준으로 균등하게 나눈 값을 가진다.(시작/끝 점도 포함한다)\n",
    "- numpy.arange : 시작점으로 부터 입력한 간격에 따라 값을 n개 가진다.\n",
    "- numpy.logspace : linspace가 동일한 간격으로 나누었다면, logspace는 log간격으로 나눈것이다.\n"
   ]
  },
  {
   "cell_type": "markdown",
   "metadata": {},
   "source": [
    "## numpy.linspace\n",
    " - numpy.linspace(start, stop, num=50, endpoint=True, retstep=False, dtype=None)\n",
    " - start부터 stop의 범위에서 num개를 균일한 간격으로 데이터를 생성하고 배열을 만드는 함수\n",
    " - 요소 개수를 기준으로 균등 간격의 배열을 생성"
   ]
  },
  {
   "cell_type": "code",
   "execution_count": 51,
   "metadata": {},
   "outputs": [
    {
     "name": "stdout",
     "output_type": "stream",
     "text": [
      "[0.   0.25 0.5  0.75 1.  ]\n",
      "[ 0.  1.  2.  3.  4.  5.  6.  7.  8.  9. 10.]\n",
      "[ 0.  2.  4.  6.  8. 10.]\n"
     ]
    }
   ],
   "source": [
    "a1 = np.linspace(0, 1, 5)\n",
    "a2 = np.linspace(0, 10, 11)\n",
    "a3 = np.linspace(0, 10, 6)\n",
    "\n",
    "print(a1)\n",
    "print(a2)\n",
    "print(a3)"
   ]
  },
  {
   "cell_type": "markdown",
   "metadata": {},
   "source": [
    "## np.arange\n",
    " - numpy.arange([start,] stop[, step,], dtype=None)\n",
    " - start부터 stop 미만까지 step 간격으로 데이터 생성한 후 배열을 만듦\n",
    " - 범위내에서 간격을 기준 균등 간격의 배열\n",
    " - 요소의 객수가 아닌 데이터의 간격을 기준으로 배열 생성"
   ]
  },
  {
   "cell_type": "code",
   "execution_count": 56,
   "metadata": {},
   "outputs": [
    {
     "name": "stdout",
     "output_type": "stream",
     "text": [
      "type: <class 'numpy.ndarray'>\n",
      "shape: (5,), dimension: 1, dtype:float64\n",
      "Array's Data:\n",
      " [0. 2. 4. 6. 8.]\n",
      "\n",
      "\n",
      "type: <class 'numpy.ndarray'>\n",
      "shape: (6,), dimension: 1, dtype:float64\n",
      "Array's Data:\n",
      " [ 0.  2.  4.  6.  8. 10.]\n",
      "\n",
      "\n"
     ]
    }
   ],
   "source": [
    "a1 = np.arange(0, 10., 2, np.float) # 0부터 10까지 간격 = 2로 생성.\n",
    "a2 = np.arange(0, 11., 2, np.float)\n",
    "\n",
    "pprint(a1)\n",
    "pprint(a2)"
   ]
  },
  {
   "cell_type": "markdown",
   "metadata": {},
   "source": [
    "## 전치 연산(Transpose)\n",
    "\n",
    "배열의 T속성으로 구할수 있게됐다. 메서드가 아닌 속성\n",
    "\n",
    "## 크기변형(Reshape)\n",
    "\n",
    "- 다차원 배열을 무조건 1차원으로 펼치기 위해서는 flatten 나 ravel 메서드를 사용한다."
   ]
  },
  {
   "cell_type": "code",
   "execution_count": 60,
   "metadata": {},
   "outputs": [
    {
     "name": "stdout",
     "output_type": "stream",
     "text": [
      "[[1 2]\n",
      " [3 4]]\n",
      "[[1 3]\n",
      " [2 4]]\n",
      "[1 2 3]\n",
      "[1 2 3]\n"
     ]
    }
   ],
   "source": [
    "import numpy as np\n",
    "\n",
    "x = np.array([[1,2], [3,4]])\n",
    "print(x)    # 출력 \"[[1 2]\n",
    "            #       [3 4]]\"\n",
    "print(x.T)  # 출력 \"[[1 3]\n",
    "            #       [2 4]]\"\n",
    "\n",
    "\n",
    "# rank 1인 배열을 전치할 경우 아무 일도 일어나지 않습니다:\n",
    "v = np.array([1,2,3])\n",
    "print(v )   # 출력 \"[1 2 3]\"\n",
    "print(v.T)  # 출력 \"[1 2 3]\"\n"
   ]
  },
  {
   "cell_type": "code",
   "execution_count": null,
   "metadata": {},
   "outputs": [],
   "source": []
  }
 ],
 "metadata": {
  "kernelspec": {
   "display_name": "Python 3",
   "language": "python",
   "name": "python3"
  },
  "language_info": {
   "codemirror_mode": {
    "name": "ipython",
    "version": 3
   },
   "file_extension": ".py",
   "mimetype": "text/x-python",
   "name": "python",
   "nbconvert_exporter": "python",
   "pygments_lexer": "ipython3",
   "version": "3.7.2"
  }
 },
 "nbformat": 4,
 "nbformat_minor": 4
}
