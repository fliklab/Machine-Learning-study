{
 "cells": [
  {
   "cell_type": "markdown",
   "metadata": {},
   "source": [
    "## 이전에 공부한것.\n",
    "\n",
    "**텐서** - 데이터. 변수1개, 리스트, 행렬이 될수 있다. 주로 넘파이 리스트 형식이다.  \n",
    "**노드** - 인풋, 아웃풋이 엣지로 연결된다.(화살표가 엣지이다.) 노드는 연산이다.  \n",
    "**세션** - 노드의 연결로 구성된 세트의 연산의 \"실행\"할수 있는 객체 tf.Session()  \n",
    "**해본것**  - Variable, add, multiply로 노드 연결하고 run으로 값 구해보기.  \n",
    "**텐서보드**  \n",
    "텐서보드에 그래프 생성은 writer = tf.summary.FileWriter('경로', sess.graph)\n"
   ]
  },
  {
   "cell_type": "markdown",
   "metadata": {},
   "source": [
    "**더 알아야 할것**\n",
    "Numpy - 선언 방법과 값 접근 방법, 주요 함수.  \n",
    "Tensor Shape  \n",
    "Tensorflow Operation  \n",
    "handle  \n",
    "name_scope  \n",
    "Tensorflow graph  \n",
    "Session - target, graph, config 옵션.  \n",
    "Fetches  \n",
    "Feed(feed_dict)  \n",
    "Placeholder  \n"
   ]
  },
  {
   "cell_type": "markdown",
   "metadata": {},
   "source": [
    "아래 코드는 입력으로 numpy 리스트 [5,3,2]을 입력받아서 리스트의 요소를 곱하거나 더하는 노드를 만들었다.  \n",
    "reduce_prod, reduce_sum은 입력에서 모든(2개이상) 요소를 곱한것, 더한것을 의미한다.\n",
    "나머지는 이전과 가틈."
   ]
  },
  {
   "cell_type": "code",
   "execution_count": 10,
   "metadata": {},
   "outputs": [
    {
     "data": {
      "text/plain": [
       "[10, 40]"
      ]
     },
     "execution_count": 10,
     "metadata": {},
     "output_type": "execute_result"
    }
   ],
   "source": [
    "import tensorflow as tf\n",
    "a = tf.constant([5,3,2], name =\"input_a\")\n",
    "b = tf.reduce_prod(a, name=\"prod_b\")\n",
    "c = tf.reduce_sum(a, name=\"sum_c\")\n",
    "d = tf.add(b,c,name=\"add_d\")\n",
    "\n",
    "sess = tf.Session()\n",
    "init = tf.global_variables_initializer() #초기화 연산 정의(?)\n",
    "sess.run(init)\n",
    "sess.run([c,d])"
   ]
  },
  {
   "cell_type": "markdown",
   "metadata": {},
   "source": [
    "## np.array"
   ]
  },
  {
   "cell_type": "code",
   "execution_count": 16,
   "metadata": {},
   "outputs": [],
   "source": [
    "#넘파이 어레이(np.array)를 정의하는 다양한 방법\n",
    "import numpy as np\n",
    "\n",
    "t_0 = np.array(50, dtype=np.int32)\n",
    "t_1 = np.array([\"apple\",\"peach\",\"grape\"])\n",
    "t_2 = np.array([[True,False, True],\n",
    "                [True,False, True],\n",
    "                [True,False, True]],\n",
    "              dtype=np.bool)\n",
    "\n",
    "t_3 = np.array([ [[0,0], [0,0], [0,1]],\n",
    "                 [[0,0], [0,0], [0,1]],\n",
    "                 [[0,0], [0,0], [0,1]] ],\n",
    "               dtype=np.int64)\n"
   ]
  },
  {
   "cell_type": "markdown",
   "metadata": {},
   "source": [
    "## tf.Graph"
   ]
  },
  {
   "cell_type": "code",
   "execution_count": 18,
   "metadata": {},
   "outputs": [
    {
     "name": "stdout",
     "output_type": "stream",
     "text": [
      "True\n",
      "False\n"
     ]
    }
   ],
   "source": [
    "import tensorflow as tf\n",
    "\n",
    "g = tf.Graph()\n",
    "\n",
    "with g.as_default(): # ??????\n",
    "    #그래프 g에 a 가 축가된다.\n",
    "    a = tf.multiply(2,3)\n",
    "    \n",
    "in_default_graph = tf.add(1,2)\n",
    "\n",
    "with g.as_default():\n",
    "    in_graph_g = tf.multiply(2,3)\n",
    "    print(g is tf.get_default_graph()) #true\n",
    "    \n",
    "also_in_default_graph = tf.subtract(5,1)\n",
    "\n",
    "print(g is tf.get_default_graph()) #false"
   ]
  },
  {
   "cell_type": "markdown",
   "metadata": {},
   "source": [
    "## Default Graph\n",
    "노드를 만들고 나서 하는 일은 보통 그 노드(오퍼레이션)를 그래프에 추가하는 것이다.  \n",
    "그런데 그래프가 여러개일수도 있다.  \n",
    "그래서 tf 코드에서 그래프가 여러개 정의되어있을경우  \n",
    "그 중 디폴트 그래프를 지정해주고, 그 상태에서 노드를 정의한다.  \n",
    "그러면 현재 지정되어있는 디폴트 그래프에 노드가 알아서 추가된다.  \n",
    "default_graph = tf.get_default_graph() "
   ]
  },
  {
   "cell_type": "code",
   "execution_count": null,
   "metadata": {},
   "outputs": [],
   "source": [
    "\n",
    "import tensorflow as tf\n",
    "\n",
    "g1 = tf.Graph()\n",
    "g2 = tf.Graph()\n",
    "\n",
    "with g1.as_defaut()\n",
    "    #define g1 operations, tensors, etc...\n",
    "    # ...\n",
    "    \n",
    "with g2.as_defaut()\n",
    "    #define g2 operations, tensors, etc...\n",
    "    # ...\n"
   ]
  },
  {
   "cell_type": "markdown",
   "metadata": {},
   "source": [
    "## Fetch\n",
    "sess.run()의 인자(parameter)를 Fetch라고 한다.  \n",
    "연산하고자 하는 그래프의 요소에 해당한다. 하나의 노드 혹은 노드들로 이루어진 리스트(list)  \n",
    "\n",
    "sess.run(f) 를 통해 f노드를 실행한다고 할때, f를 페치(fetches)라고 한다."
   ]
  },
  {
   "cell_type": "markdown",
   "metadata": {},
   "source": [
    "## Feed\n",
    "피드는 딕셔너리로 만든다. \n",
    "앞에 정의된 값과 상관없이, dictionary의 value를 값으로 한다."
   ]
  },
  {
   "cell_type": "code",
   "execution_count": 9,
   "metadata": {},
   "outputs": [
    {
     "data": {
      "text/plain": [
       "45"
      ]
     },
     "execution_count": 9,
     "metadata": {},
     "output_type": "execute_result"
    }
   ],
   "source": [
    "import tensorflow as tf\n",
    "\n",
    "a = tf.add(2,5)\n",
    "b = tf.multiply(a,3)\n",
    "\n",
    "sess= tf.Session()\n",
    "init = tf.global_variables_initializer()\n",
    "sess.run(init)\n",
    "\n",
    "#딕셔너리로 피드 정의:\n",
    "#앞애서 계산된 a는 10이지만, a를 15로 간주한다.)\n",
    "replace_dict = { a: 15 } \n",
    "\n",
    "sess.run(b, feed_dict=replace_dict)\n",
    "#sess.close()"
   ]
  },
  {
   "cell_type": "markdown",
   "metadata": {},
   "source": [
    "## Place Holder\n",
    "\n",
    "코드 출처: https://excelsior-cjh.tistory.com/151 [EXCELSIOR]\n",
    "\n",
    "비어있는 인풋 데이터를 미리 만들어놓는것이다.\n",
    "입력 변수가 들어갈 자리? 만 만들어놓은 것.\n",
    "나중에 넣기만 하면 되도록 미리 설정해놓는 것으로 보면 될것같다.  \n",
    "Shape는 행렬의 모양 혹은 텐서 모양을 의미하고, 행? 렬?의 갯수를 의미한다.\n",
    "\n",
    "Placeholder를 만들었다면, 실행시 형식에 맞는 데이터를 반드시 넣어주어야 한다."
   ]
  },
  {
   "cell_type": "code",
   "execution_count": 5,
   "metadata": {},
   "outputs": [
    {
     "name": "stdout",
     "output_type": "stream",
     "text": [
      "x_data = [[ 0.29008241 -1.19436114]\n",
      " [ 0.1542224   0.79737649]\n",
      " [ 1.25198707 -0.44913596]\n",
      " [ 0.95385175  0.45004348]\n",
      " [-0.87365987  0.43638456]]\n",
      "w_data = [[-1.21299719]\n",
      " [ 1.97941156]]\n",
      "outs = 0.9235316514968872\n"
     ]
    }
   ],
   "source": [
    "import tensorflow as tf\n",
    "import numpy as np\n",
    "\n",
    "x_data = np.random.randn(5, 2) # Place Holder에 넣을 데이터\n",
    "w_data = np.random.randn(2, 1) # Place Holder애 넣을 데이터\n",
    "\n",
    "print(\"x_data = {}\".format(x_data))\n",
    "print(\"w_data = {}\".format(w_data))\n",
    "\n",
    "with tf.Graph().as_default(): #tf.Graph()가 디폴트인 범위에서 수행한다.\n",
    "    x = tf.placeholder(tf.float32, shape=(5, 2)) # Place Holder(dType, shape)\n",
    "    w = tf.placeholder(tf.float32, shape=(2, 1)) # Place Holder(dType, shape)\n",
    "    \n",
    "    b = tf.fill((5, 1), -1.) #tf.fill creates a tensor filled with a scalar value.\n",
    "    xw = tf.matmul(x, w) #matmul은 행렬 연산이다.\n",
    "    xwb = xw + b\n",
    "    \n",
    "    s = tf.reduce_max(xwb)\n",
    "    \n",
    "    writer = tf.summary.FileWriter('./graph03_1', graph = tf.get_default_graph()) \n",
    "\n",
    "    with tf.Session() as sess:\n",
    "        outs = sess.run(s, feed_dict={x: x_data, w: w_data}) # Place Holder에 데이터를 넣음(feed로 넣을수 있다)\n",
    "          \n",
    "    print(\"outs = {}\".format(outs))\n",
    "\n",
    "    \n"
   ]
  },
  {
   "cell_type": "markdown",
   "metadata": {},
   "source": [
    "tensorboard --logdir='./graph03_1'"
   ]
  },
  {
   "cell_type": "code",
   "execution_count": 6,
   "metadata": {},
   "outputs": [
    {
     "name": "stdout",
     "output_type": "stream",
     "text": [
      "x_data = [[-0.19502881  0.55841912]\n",
      " [ 0.94176572 -0.11849254]\n",
      " [ 1.23004764  0.10791994]\n",
      " [ 1.14780951 -0.66760323]\n",
      " [-0.70768181 -1.53503762]]\n",
      "w_data = [[0.35395122]\n",
      " [0.8195804 ]]\n",
      "outs = -0.47617411613464355\n"
     ]
    }
   ],
   "source": [
    "import tensorflow as tf\n",
    "import numpy as np\n",
    "\n",
    "x_data = np.random.randn(5, 2) # Place Holder에 넣을 데이터\n",
    "w_data = np.random.randn(2, 1) # Place Holder애 넣을 데이터\n",
    "\n",
    "print(\"x_data = {}\".format(x_data))\n",
    "print(\"w_data = {}\".format(w_data))\n",
    "\n",
    "with tf.Graph().as_default(): #tf.Graph()가 디폴트인 범위에서 수행한다.\n",
    "    x = tf.placeholder(tf.float32, shape=(5, 2)) # Place Holder(dType, shape)\n",
    "    w = tf.placeholder(tf.float32, shape=(2, 1)) # Place Holder(dType, shape)\n",
    "    \n",
    "    b = tf.fill((5, 1), -1.) #tf.fill creates a tensor filled with a scalar value.\n",
    "    xw = tf.matmul(x, w) #matmul은 행렬 연산이다.\n",
    "    xwb = xw + b\n",
    "    \n",
    "    s = tf.reduce_max(xwb)\n",
    "    \n",
    "    writer = tf.summary.FileWriter('./graph03_1', graph = tf.get_default_graph()) \n",
    "\n",
    "    with tf.Session() as sess:\n",
    "        outs = sess.run(s, feed_dict={x: x_data, w: w_data}) # Place Holder에 데이터를 넣음(feed로 넣을수 있다)\n",
    "          \n",
    "    print(\"outs = {}\".format(outs))\n",
    "\n",
    "    \n"
   ]
  },
  {
   "cell_type": "code",
   "execution_count": null,
   "metadata": {},
   "outputs": [],
   "source": []
  }
 ],
 "metadata": {
  "kernelspec": {
   "display_name": "Python 3",
   "language": "python",
   "name": "python3"
  },
  "language_info": {
   "codemirror_mode": {
    "name": "ipython",
    "version": 3
   },
   "file_extension": ".py",
   "mimetype": "text/x-python",
   "name": "python",
   "nbconvert_exporter": "python",
   "pygments_lexer": "ipython3",
   "version": "3.7.3"
  }
 },
 "nbformat": 4,
 "nbformat_minor": 4
}
