{
 "cells": [
  {
   "cell_type": "markdown",
   "metadata": {},
   "source": [
    "# 2장. 간단한 분류 알고리즘 훈련"
   ]
  },
  {
   "cell_type": "markdown",
   "metadata": {},
   "source": [
    "길벗출판사의 머신러닝 교과서 실습입니다"
   ]
  },
  {
   "cell_type": "markdown",
   "metadata": {},
   "source": [
    "---\n",
    "## 수학적 배경\n",
    "\n",
    "인공뉴런 : 두개의 클래스가 있는 이진분류 작업으로 볼 수 있다.\n",
    "여기서 두개의 클래스를 -1, 1이라고 한다.\n",
    "\n",
    "> 입력값 `x`와 벡터 `w`의 선형 조합으로 결정함수 `phi(z)`를 나타낸다.\n",
    "선형 조합이란 구성하는 요소끼리 계수를 곱해서 더해서 나올수 있는 조합니다.\n",
    "다르게 표 현하면 span이라고 볼수 있을것 같다.\n",
    "\n",
    "최종입력 `z`는 `x`, `z`의 **선형조합**니다. \n",
    "\n",
    "$$ z = w_1 x_1 + ... + x_m w_m $$\n",
    "\n",
    "선형 조합을 각 집합 X, W의 행렬곱으로 표현할수 있다.\n",
    "\n",
    "$ W = [ w_0 w_1 w_2 .. . w_m ] $는 가중치입니다.\n",
    "\n",
    "x가 주어졌을때, 그 결과를 예측하기 위해서\n",
    "단순히 x에다가 어떤 수를 곱한다고 합시다.  \n",
    "여기서 곱하는 값을 가중치라고 하며 주로 w로 나타냅니다.  \n",
    "\n",
    "지금은 x가 m개 존재하므로 가중치도 m개가 필요합니다.?\n",
    "일단 지금은 그렇습니다.\n",
    "\n",
    "## 회귀?\n",
    "- 회귀 vs 분류?\n",
    "- 선형회귀, 로지스틱회귀?"
   ]
  },
  {
   "cell_type": "markdown",
   "metadata": {},
   "source": [
    "---\n",
    "### plt.scatter\n",
    "*plt.scatter( x축 , y축 , options )*"
   ]
  },
  {
   "cell_type": "code",
   "execution_count": 172,
   "metadata": {},
   "outputs": [
    {
     "data": {
      "image/png": "[encoded data removed]",
      "text/plain": [
       "<Figure size 432x288 with 1 Axes>"
      ]
     },
     "metadata": {
      "needs_background": "light"
     },
     "output_type": "display_data"
    }
   ],
   "source": [
    "%matplotlib inline\n",
    "import matplotlib.pyplot as plt\n",
    "import numpy as np\n",
    "\n",
    "plt.scatter([1.0, 2.0, 3.0 ,4.0, 5.0], #x축\n",
    "            [0.0, 0.9, 0.5, 0.5, 0.8], #y축\n",
    "            color='orange', marker='x', label='setosa')\n",
    "plt.show()"
   ]
  },
  {
   "cell_type": "markdown",
   "metadata": {},
   "source": [
    "---\n",
    "\n",
    "## 코드를 이해해보자 으\n",
    "$$ \\eta = 에타 $$\n",
    "파이썬 zip함수 : https://wikidocs.net/32#zip\n",
    "\n",
    "판다스에서 csv파일 읽기\n",
    "    `pd.read_csv('04/iris.data', header=None)`\n"
   ]
  },
  {
   "cell_type": "code",
   "execution_count": null,
   "metadata": {},
   "outputs": [],
   "source": []
  },
  {
   "cell_type": "markdown",
   "metadata": {},
   "source": [
    "### 퍼셉트론 분류기 클래스  \n",
    "#### **매개변수**  \n",
    "eta($ {\\eta} $) | *float*  |  학습률 (0.0과 1.0 사이)  \n",
    "n_iter          | *int*    |  훈련 데이터셋 반복 횟수  \n",
    "random_state    | *int*    |  가중치 무작위 초기화를 위한 난수 생성기 시드  \n",
    "\n",
    "#### **속성**  \n",
    "w_ : *1d-array* : 학습된 가중치  \n",
    "errors_ : *list* : 에포크마다 누적된 분류 오류  \n",
    "\n",
    "#### **메서드**  \n",
    "\\_\\_init\\_\\_(**self**, eta=0.01, n_iter=50, random_state=1 ):  \n",
    "fit(self, X, y):  \n",
    "net_input(self, X):  \n",
    "predict(self, X):  "
   ]
  },
  {
   "cell_type": "code",
   "execution_count": 226,
   "metadata": {},
   "outputs": [],
   "source": [
    "import numpy as np\n",
    "\n",
    "class Perceptron(object):\n",
    "    \"\"\"퍼셉트론 분류기\n",
    "\n",
    "    매개변수\n",
    "    ------------\n",
    "    eta : float\n",
    "      학습률 (0.0과 1.0 사이)\n",
    "    n_iter : int\n",
    "      훈련 데이터셋 반복 횟수\n",
    "    random_state : int\n",
    "      가중치 무작위 초기화를 위한 난수 생성기 시드\n",
    "\n",
    "    속성\n",
    "    -----------\n",
    "    w_ : 1d-array\n",
    "      학습된 가중치\n",
    "    errors_ : list\n",
    "      에포크마다 누적된 분류 오류\n",
    "\n",
    "    \"\"\"\n",
    "    def __init__(self, eta=0.01, n_iter=50, random_state=1):\n",
    "        self.eta = eta\n",
    "        self.n_iter = n_iter\n",
    "        self.random_state = random_state\n",
    "\n",
    "    def fit(self, X, y):\n",
    "        \"\"\"훈련 데이터 학습\n",
    "\n",
    "        매개변수\n",
    "        ----------\n",
    "        X : {array-like}, shape = [n_samples, n_features]\n",
    "          n_samples개의 샘플과 n_features개의 특성으로 이루어진 훈련 데이터\n",
    "        y : array-like, shape = [n_samples]\n",
    "          타깃값\n",
    "\n",
    "        반환값\n",
    "        -------\n",
    "        self : object\n",
    "\n",
    "        \"\"\"\n",
    "        \n",
    "        # w_ 에 초기 값을 저장하는 list를 할당한다.\n",
    "        rgen = np.random.RandomState(self.random_state)\n",
    "        self.w_ = rgen.normal(loc=0.0, scale=0.01, size=1 + X.shape[1]) #요소가 3개짜리 리스트.\n",
    "        self.errors_ = []\n",
    "\n",
    "        for _ in range(self.n_iter):\n",
    "            errors = 0\n",
    "            # x에 따른 y의 예측값을 self.predict(xi)로 구한다.\n",
    "            # y의 실제 값은 target이다.\n",
    "            # y의 실제값과 예측값을 비교한다.\n",
    "            # w_의 차이가 있으면 가중치를 업데이트한다..\n",
    "            for xi, target in zip(X, y):\n",
    "                #모든 x에 대하여 반복하는 것이 1에포크이다.(여기서 x는 2개 있으므로 2번 반복?)\n",
    "                #한번 할때마다 가중치값이 바뀐다.\n",
    "                #print(\"xi:\", xi, \"  w_:\", self.w_, \"  y:\", target, \"y_predict: \", self.predict(xi))\n",
    "                update = self.eta * (target - self.predict(xi))\n",
    "                self.w_[1:] += update * xi\n",
    "                self.w_[0] += update\n",
    "                errors += int(update != 0.0) #update가 0이 아니면 errors증가.\n",
    "            self.errors_.append(errors) # errors를 요소로 self.errors_에 추가한다.\n",
    "        return self\n",
    "\n",
    "    def net_input(self, X):\n",
    "        \"\"\"최종 입력 계산\"\"\"\n",
    "        # 입력 : [x x]모양, 출력은 스칼라값으로 나온다.\n",
    "        # 출력 : x값 곱하기 가중치, 그리고 절편(w_[0]) 을 더함.\n",
    "        return np.dot(X, self.w_[1:]) + self.w_[0]\n",
    "\n",
    "    def predict(self, X): \n",
    "        \"\"\"Unit Step Function 를 사용하여 클래스 레이블을 반환합니다\"\"\"\n",
    "        # 입력 : [x x]모양\n",
    "        # 출력 : 0보다 크면 1, 작으면 -1 반환.\n",
    "        return np.where(self.net_input(X) >= 0.0, 1, -1)"
   ]
  },
  {
   "cell_type": "code",
   "execution_count": 155,
   "metadata": {},
   "outputs": [
    {
     "data": {
      "text/html": [
       "<div>\n",
       "<style scoped>\n",
       "    .dataframe tbody tr th:only-of-type {\n",
       "        vertical-align: middle;\n",
       "    }\n",
       "\n",
       "    .dataframe tbody tr th {\n",
       "        vertical-align: top;\n",
       "    }\n",
       "\n",
       "    .dataframe thead th {\n",
       "        text-align: right;\n",
       "    }\n",
       "</style>\n",
       "<table border=\"1\" class=\"dataframe\">\n",
       "  <thead>\n",
       "    <tr style=\"text-align: right;\">\n",
       "      <th></th>\n",
       "      <th>0</th>\n",
       "      <th>1</th>\n",
       "      <th>2</th>\n",
       "      <th>3</th>\n",
       "      <th>4</th>\n",
       "    </tr>\n",
       "  </thead>\n",
       "  <tbody>\n",
       "    <tr>\n",
       "      <th>0</th>\n",
       "      <td>5.1</td>\n",
       "      <td>3.5</td>\n",
       "      <td>1.4</td>\n",
       "      <td>0.2</td>\n",
       "      <td>Iris-setosa</td>\n",
       "    </tr>\n",
       "    <tr>\n",
       "      <th>1</th>\n",
       "      <td>4.9</td>\n",
       "      <td>3.0</td>\n",
       "      <td>1.4</td>\n",
       "      <td>0.2</td>\n",
       "      <td>Iris-setosa</td>\n",
       "    </tr>\n",
       "    <tr>\n",
       "      <th>2</th>\n",
       "      <td>4.7</td>\n",
       "      <td>3.2</td>\n",
       "      <td>1.3</td>\n",
       "      <td>0.2</td>\n",
       "      <td>Iris-setosa</td>\n",
       "    </tr>\n",
       "    <tr>\n",
       "      <th>3</th>\n",
       "      <td>4.6</td>\n",
       "      <td>3.1</td>\n",
       "      <td>1.5</td>\n",
       "      <td>0.2</td>\n",
       "      <td>Iris-setosa</td>\n",
       "    </tr>\n",
       "    <tr>\n",
       "      <th>4</th>\n",
       "      <td>5.0</td>\n",
       "      <td>3.6</td>\n",
       "      <td>1.4</td>\n",
       "      <td>0.2</td>\n",
       "      <td>Iris-setosa</td>\n",
       "    </tr>\n",
       "  </tbody>\n",
       "</table>\n",
       "</div>"
      ],
      "text/plain": [
       "     0    1    2    3            4\n",
       "0  5.1  3.5  1.4  0.2  Iris-setosa\n",
       "1  4.9  3.0  1.4  0.2  Iris-setosa\n",
       "2  4.7  3.2  1.3  0.2  Iris-setosa\n",
       "3  4.6  3.1  1.5  0.2  Iris-setosa\n",
       "4  5.0  3.6  1.4  0.2  Iris-setosa"
      ]
     },
     "execution_count": 155,
     "metadata": {},
     "output_type": "execute_result"
    }
   ],
   "source": [
    "import pandas as pd\n",
    "\n",
    "df = pd.read_csv('04/iris.data', header=None)\n",
    "\n",
    "df.head()\n",
    "#df.tail()\n",
    "\n",
    "# print(df.head())\n",
    "#     0    1    2    3            4\n",
    "# 0  5.1  3.5  1.4  0.2  Iris-setosa\n",
    "# 1  4.9  3.0  1.4  0.2  Iris-setosa\n",
    "# 2  4.7  3.2  1.3  0.2  Iris-setosa\n",
    "# 3  4.6  3.1  1.5  0.2  Iris-setosa\n",
    "# 4  5.0  3.6  1.4  0.2  Iris-setosa\n",
    "\n",
    "# print(df.tail())\n",
    "#       0    1    2    3               4\n",
    "# 145  6.7  3.0  5.2  2.3  Iris-virginica\n",
    "# 146  6.3  2.5  5.0  1.9  Iris-virginica\n",
    "# 147  6.5  3.0  5.2  2.0  Iris-virginica\n",
    "# 148  6.2  3.4  5.4  2.3  Iris-virginica\n",
    "# 149  5.9  3.0  5.1  1.8  Iris-virginica"
   ]
  },
  {
   "cell_type": "code",
   "execution_count": 165,
   "metadata": {},
   "outputs": [],
   "source": [
    "%matplotlib inline\n",
    "import matplotlib.pyplot as plt\n",
    "import numpy as np\n",
    "\n",
    "# setosa와 versicolor를 선택합니다\n",
    "y = df.iloc[0:100, 4].values\n",
    "y = np.where(y == 'Iris-setosa', -1, 1) #3항 연산자와 비슷함\n",
    "\n",
    "# 꽃받침 길이와 꽃잎 길이를 추출합니다\n",
    "# iloc[  ] 으로 df(위의 표) 에서 column의 값이 0,1인 데이터만 가져옴\n",
    "X = df.iloc[0:100, [0, 2]].values"
   ]
  },
  {
   "cell_type": "code",
   "execution_count": 225,
   "metadata": {},
   "outputs": [
    {
     "name": "stdout",
     "output_type": "stream",
     "text": [
      "setosa의 꽃받침 길이와 꽃잎 길이\n",
      "   5.1 4.9 ... 5.3 5.0\n",
      "   1.4 1.4 ... 5.3 1.4\n",
      "y\n",
      " [-1 -1 -1 -1 -1 -1 -1 -1 -1 -1 -1 -1 -1 -1 -1 -1 -1 -1 -1 -1 -1 -1 -1 -1\n",
      " -1 -1 -1 -1 -1 -1 -1 -1 -1 -1 -1 -1 -1 -1 -1 -1 -1 -1 -1 -1 -1 -1 -1 -1\n",
      " -1 -1  1  1  1  1  1  1  1  1  1  1  1  1  1  1  1  1  1  1  1  1  1  1\n",
      "  1  1  1  1  1  1  1  1  1  1  1  1  1  1  1  1  1  1  1  1  1  1  1  1\n",
      "  1  1  1  1]\n"
     ]
    }
   ],
   "source": [
    "print(\"setosa의 꽃받침 길이와 꽃잎 길이\")\n",
    "print(\"  \", X[0, 0], X[1,0], \"...\",  X[48,0],  X[49,0])\n",
    "print(\"  \", X[0, 1], X[1,1], \"...\",  X[48,0],  X[49,1])\n",
    "\n",
    "print(\"y\\n\", y)\n",
    "#print(\"X\\n\", X)"
   ]
  },
  {
   "cell_type": "code",
   "execution_count": 192,
   "metadata": {},
   "outputs": [
    {
     "data": {
      "image/png": "[encoded data removed]",
      "text/plain": [
       "<Figure size 432x288 with 1 Axes>"
      ]
     },
     "metadata": {
      "needs_background": "light"
     },
     "output_type": "display_data"
    }
   ],
   "source": [
    "# 산점도를 그립니다\n",
    "plt.scatter(X[:50, 0], X[:50, 1],\n",
    "            color='red', alpha=0.5, marker='o', label='setosa')\n",
    "plt.scatter(X[50:100, 0], X[50:100, 1], \n",
    "            color='blue', alpha=0.5, marker='x', label='versicolor')\n",
    "\n",
    "plt.xlabel('sepal length [cm]',size=14)\n",
    "plt.ylabel('petal length [cm]',size=14)\n",
    "plt.legend(loc='upper left')\n",
    "\n",
    "plt.show()"
   ]
  },
  {
   "cell_type": "markdown",
   "metadata": {},
   "source": [
    "----\n",
    "이제부터는 붓꽃 데이터 셋을 선형 분류기로 분류하려고 한다."
   ]
  },
  {
   "cell_type": "code",
   "execution_count": 193,
   "metadata": {},
   "outputs": [
    {
     "data": {
      "image/png": "[encoded data removed]",
      "text/plain": [
       "<Figure size 432x288 with 1 Axes>"
      ]
     },
     "metadata": {
      "needs_background": "light"
     },
     "output_type": "display_data"
    }
   ],
   "source": [
    "ppn = Perceptron(eta = 0.1, n_iter =10)\n",
    "ppn.fit(X, y)\n",
    "\n",
    "plt.plot(range(1,len(ppn.errors_)+1),ppn.errors_, marker='o')\n",
    "plt.xlabel('Epochs',size=14)\n",
    "plt.ylabel('Number of errors',size=14)\n",
    "\n",
    "plt.show()"
   ]
  },
  {
   "cell_type": "code",
   "execution_count": 227,
   "metadata": {},
   "outputs": [
    {
     "data": {
      "image/png": "[encoded data removed]",
      "text/plain": [
       "<Figure size 432x288 with 1 Axes>"
      ]
     },
     "metadata": {
      "needs_background": "light"
     },
     "output_type": "display_data"
    }
   ],
   "source": [
    "ppn = Perceptron(eta = 0.1, n_iter =10)\n",
    "ppn.fit(X, y)\n",
    "\n",
    "plt.plot(range(1,len(ppn.errors_)+1),ppn.errors_,marker='o')\n",
    "plt.xlabel('Epochs',size=14)\n",
    "plt.ylabel('ppn.eta',size=14)\n",
    "\n",
    "plt.show()"
   ]
  }
 ],
 "metadata": {
  "kernelspec": {
   "display_name": "Python 3",
   "language": "python",
   "name": "python3"
  },
  "language_info": {
   "codemirror_mode": {
    "name": "ipython",
    "version": 3
   },
   "file_extension": ".py",
   "mimetype": "text/x-python",
   "name": "python",
   "nbconvert_exporter": "python",
   "pygments_lexer": "ipython3",
   "version": "3.7.2"
  }
 },
 "nbformat": 4,
 "nbformat_minor": 4
}
