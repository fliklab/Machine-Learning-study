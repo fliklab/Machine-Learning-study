{
 "cells": [
  {
   "cell_type": "markdown",
   "metadata": {},
   "source": [
    "``` bob \n",
    "     .---.\n",
    "    /-o-/--\n",
    " .-/ / /->\n",
    "( *  \\/\n",
    " '-.  \\\n",
    "    \\ /\n",
    "     '\n",
    "```"
   ]
  },
  {
   "cell_type": "markdown",
   "metadata": {},
   "source": [
    "``` bob \n",
    "     .---.\n",
    "    /-o-/--\n",
    " .-/ / /->\n",
    "( *  \\/\n",
    " '-.  \\\n",
    "    \\ /\n",
    "     '\n",
    "```"
   ]
  },
  {
   "cell_type": "markdown",
   "metadata": {},
   "source": []
  },
  {
   "cell_type": "markdown",
   "metadata": {},
   "source": [
    "#svg bob\n",
    "\n",
    "``` bob \n",
    "     .---.\n",
    "    /-o-/--\n",
    " .-/ / /->\n",
    "( *  \\/\n",
    " '-.  \\\n",
    "    \\ /\n",
    "     '\n",
    "```"
   ]
  },
  {
   "cell_type": "markdown",
   "metadata": {},
   "source": [
    "##어떻게 함\n"
   ]
  },
  {
   "cell_type": "code",
   "execution_count": null,
   "metadata": {},
   "outputs": [],
   "source": []
  }
 ],
 "metadata": {
  "kernelspec": {
   "display_name": "Python 3",
   "language": "python",
   "name": "python3"
  },
  "language_info": {
   "codemirror_mode": {
    "name": "ipython",
    "version": 3
   },
   "file_extension": ".py",
   "mimetype": "text/x-python",
   "name": "python",
   "nbconvert_exporter": "python",
   "pygments_lexer": "ipython3",
   "version": "3.7.3"
  }
 },
 "nbformat": 4,
 "nbformat_minor": 4
}
