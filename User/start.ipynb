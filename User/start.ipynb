{
 "cells": [
  {
   "cell_type": "markdown",
   "metadata": {},
   "source": [
    "마크다운 작성하는 법 실습.\n",
    "\n",
    "1. 우측 상단의 new를 선택하면, text file, folder, python3 등을 선택해서 새 항목을 만들수있다.\n",
    "여기서 python3을 선택해서 파이썬 코드 또는 파이썬 노트북을 만들수가 있다.\n",
    "\n",
    "2. 상단에 에디터 툴바가 있는데 markdown선택.\n",
    "markdown 설명을 작성할수 있다.\n",
    "\n",
    "3. Run(▶|) 클릭.\n",
    "현재 작성중인 셀 다음에 새로운 셀이 생기면서 입력할수 있게된다.\n",
    "(+)를 클릭해도 새 셀을 추가할수 있는것같다.\n",
    "셀마다 markdown, code 등을 선택할수가 있다.\n",
    "다음 셀에서는 code를 작성한다.\n",
    "\n"
   ]
  },
  {
   "cell_type": "code",
   "execution_count": 4,
   "metadata": {},
   "outputs": [
    {
     "name": "stdout",
     "output_type": "stream",
     "text": [
      "Hello World!\n"
     ]
    }
   ],
   "source": [
    "print('Hello World!')"
   ]
  },
  {
   "cell_type": "code",
   "execution_count": 5,
   "metadata": {},
   "outputs": [
    {
     "name": "stdout",
     "output_type": "stream",
     "text": [
      "Hello 2!\n",
      "Hello 3!\n",
      "Hello 4!\n"
     ]
    }
   ],
   "source": [
    "print('Hello 2!')\n",
    "print('Hello 3!')\n",
    "print('Hello 4!')"
   ]
  },
  {
   "cell_type": "markdown",
   "metadata": {},
   "source": [
    "3. 코드 작성\n",
    "4. 다시 Run(▶|)을 클릭. \n",
    "위에 작성한 코드가 실행되고 코드 바로 아래에 출력이 뜬다. 그리고 새로운 셀이 등장.\n",
    "코드 좌측에 In[1]이라고 뜨는데, 숫자는 몇번째로 실행된 코드인지를 나타내는 숫자인다\n",
    "같은 코드를 다시 실행해보면 1이 2로 바뀌는것을 확인할수 있다.\n",
    "런을 누르면 하나씩 실행된다.\n",
    "\n",
    "* 같은 노트북안에서는 실행 상태가 연결된다.\n",
    "각각 다른셀에 작성한 함수나 변수라도 노트북 내에서 공유하고 있기때문에 값이 바뀌면 전체적으로 다 바뀌는점. 한번만 선언하면 되는 점.\n",
    "\n",
    "5. 노트북파일 저장 : File > Save and Checkpoint\n",
    "6. 노트북제목 바꾸기 : 제목을 클릭하면 바꿀 수 있다.\n",
    "7. 노트북파일 저장경로 : 기본적으로 사용자계정 폴더에 저장되는데, 바꾸는 방법도 있다.\n"
   ]
  }
 ],
 "metadata": {
  "kernelspec": {
   "display_name": "Python 3",
   "language": "python",
   "name": "python3"
  },
  "language_info": {
   "codemirror_mode": {
    "name": "ipython",
    "version": 3
   },
   "file_extension": ".py",
   "mimetype": "text/x-python",
   "name": "python",
   "nbconvert_exporter": "python",
   "pygments_lexer": "ipython3",
   "version": "3.7.2"
  }
 },
 "nbformat": 4,
 "nbformat_minor": 2
}
